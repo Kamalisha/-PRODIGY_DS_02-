{
  "nbformat": 4,
  "nbformat_minor": 0,
  "metadata": {
    "colab": {
      "private_outputs": true,
      "provenance": [],
      "authorship_tag": "ABX9TyONwP+cImYCMMtNW3BL7VL/",
      "include_colab_link": true
    },
    "kernelspec": {
      "name": "python3",
      "display_name": "Python 3"
    },
    "language_info": {
      "name": "python"
    }
  },
  "cells": [
    {
      "cell_type": "markdown",
      "metadata": {
        "id": "view-in-github",
        "colab_type": "text"
      },
      "source": [
        "<a href=\"https://colab.research.google.com/github/Kamalisha/-PRODIGY_DS_02-/blob/main/%22PRODIGY_TASK_2%22.ipynb\" target=\"_parent\"><img src=\"https://colab.research.google.com/assets/colab-badge.svg\" alt=\"Open In Colab\"/></a>"
      ]
    },
    {
      "cell_type": "code",
      "source": [
        "import pandas as pd\n",
        "import matplotlib.pyplot as plt\n",
        "%matplotlib inline\n",
        "import seaborn as sns\n",
        "import numpy as np\n",
        "import plotly.express as px\n",
        "from scipy import stats"
      ],
      "metadata": {
        "id": "m6-UfQ6a6UTy"
      },
      "execution_count": null,
      "outputs": []
    },
    {
      "cell_type": "code",
      "source": [
        "df= pd.read_csv('/content/tested.csv')\n",
        "df.head()"
      ],
      "metadata": {
        "id": "bdITGni06iaK"
      },
      "execution_count": null,
      "outputs": []
    },
    {
      "cell_type": "code",
      "source": [
        "du = DataUnderstanding(df)\n",
        "summary= du.get_summary_statistics()\n",
        "print(\"Summary Statistics:\")\n",
        "summary"
      ],
      "metadata": {
        "id": "k5SRcd5a7E-t"
      },
      "execution_count": null,
      "outputs": []
    },
    {
      "cell_type": "code",
      "source": [
        "du.get_info()"
      ],
      "metadata": {
        "id": "uRl5usHx7i4j"
      },
      "execution_count": null,
      "outputs": []
    },
    {
      "cell_type": "code",
      "source": [
        "df['Fare'].value_counts()"
      ],
      "metadata": {
        "id": "UniaN9867p7D"
      },
      "execution_count": null,
      "outputs": []
    },
    {
      "cell_type": "code",
      "source": [
        "du.get_missing_values()"
      ],
      "metadata": {
        "id": "LqskLN9a74UH"
      },
      "execution_count": null,
      "outputs": []
    },
    {
      "cell_type": "code",
      "source": [
        "data = df.drop('Cabin', axis=1)"
      ],
      "metadata": {
        "id": "0Gwhf1dQ7-t8"
      },
      "execution_count": null,
      "outputs": []
    },
    {
      "cell_type": "code",
      "source": [
        "du.get_value_counts()"
      ],
      "metadata": {
        "id": "WrofRd_O8WuJ"
      },
      "execution_count": null,
      "outputs": []
    },
    {
      "cell_type": "code",
      "source": [
        "df.duplicated(subset='Parch').sum()"
      ],
      "metadata": {
        "id": "JbEBhhM08aRf"
      },
      "execution_count": null,
      "outputs": []
    },
    {
      "cell_type": "code",
      "source": [
        "numerical_columns = ['PassengerId', 'Survived', 'Pclass', 'Age', 'SibSp', 'Parch', 'Fare']"
      ],
      "metadata": {
        "id": "uVpTVxcw836v"
      },
      "execution_count": null,
      "outputs": []
    },
    {
      "cell_type": "code",
      "source": [
        "custom_palette = sns.color_palette(\"Greens_d\")\n",
        "sns.set_palette(custom_palette)\n",
        "def outlier_plot_box(df, column_name, ax=None):\n",
        "    sns.boxplot(x=df[column_name], ax=ax)\n",
        "def remove_outliers(data, cols, threshold=3):\n",
        "    for col in cols:\n",
        "        z_scores = np.abs(stats.zscore(data[col]))\n",
        "        data = data[(z_scores < threshold)]\n",
        "    return data\n",
        "def plot_outliers_before_and_after(df, numerical_columns, threshold=3):\n",
        "    fig, axes = plt.subplots(len(numerical_columns), 2, figsize=(12, len(numerical_columns) * 6))\n",
        "\n",
        "    for i, column in enumerate(numerical_columns):\n",
        "        ax1 = axes[i][0]\n",
        "        ax2 = axes[i][1]\n",
        "        outlier_plot_box(df, column, ax=ax1)\n",
        "        ax1.set_title(f\"{column} Distribution (Before)\")\n",
        "\n",
        "        df_cleaned = remove_outliers(df, [column], threshold=threshold)\n",
        "        outlier_plot_box(df_cleaned, column, ax=ax2)\n",
        "        ax2.set_title(f\"{column} Distribution (After)\")\n",
        "\n",
        "    plt.tight_layout()\n",
        "    plt.show()\n",
        "\n",
        "plot_outliers_before_and_after(df, numerical_columns)\n"
      ],
      "metadata": {
        "id": "rF6JqVoEFFcO"
      },
      "execution_count": null,
      "outputs": []
    },
    {
      "cell_type": "code",
      "source": [
        "def plot_survival_rate(data):\n",
        "    #Create a figure\n",
        "    fig, ax = plt.subplots()\n",
        "\n",
        "    # Plot the churn rate\n",
        "    ax.pie(data['Survived'].value_counts(), labels=data['Survived'].value_counts().index, autopct='%1.1f%%')\n",
        "\n",
        "    # Add a title\n",
        "    ax.set_title('Survival Rate')\n",
        "\n",
        "    # Show the plot\n",
        "    plt.show()\n",
        "plot_survival_rate(data)"
      ],
      "metadata": {
        "id": "s8ID-fjOCiTV"
      },
      "execution_count": null,
      "outputs": []
    },
    {
      "cell_type": "code",
      "source": [
        "plt.figure(figsize=(8, 6))\n",
        "sns.histplot(data=df, x='Age', bins=20, kde=True, color='skyblue')\n",
        "plt.xlabel('Age')\n",
        "plt.ylabel('Frequency')\n",
        "plt.title('Distribution of Age')\n",
        "plt.show()\n"
      ],
      "metadata": {
        "id": "2KaPI0g4GJPn"
      },
      "execution_count": null,
      "outputs": []
    },
    {
      "cell_type": "code",
      "source": [
        "plt.figure(figsize=(8, 6))\n",
        "sns.countplot(data=df, x='Pclass', hue='Survived', palette='Blues')\n",
        "plt.xlabel('Pclass')\n",
        "plt.ylabel('Count')\n",
        "plt.title('Passenger Class')\n",
        "plt.show()"
      ],
      "metadata": {
        "id": "X_i4-Qh5GPi_"
      },
      "execution_count": null,
      "outputs": []
    },
    {
      "cell_type": "code",
      "source": [
        "correlation_matrix = df[['Age', 'Fare']].corr()\n",
        "plt.figure(figsize=(8, 6))\n",
        "sns.heatmap(correlation_matrix, annot=True, cmap='Blues', fmt='.2f')\n",
        "plt.title('Correlation Heatmap between Age and Fare')\n",
        "plt.show()"
      ],
      "metadata": {
        "id": "mxQg6WrnGZ9I"
      },
      "execution_count": null,
      "outputs": []
    },
    {
      "cell_type": "code",
      "source": [
        "sns.pairplot(df[['Age', 'Fare', 'Pclass', 'Survived']], hue='Survived', palette='coolwarm')\n",
        "plt.title('Pair Plot ofVariables')\n",
        "plt.show()"
      ],
      "metadata": {
        "id": "eCElLJLEGf8o"
      },
      "execution_count": null,
      "outputs": []
    },
    {
      "cell_type": "code",
      "source": [
        "plt.figure(figsize=(8, 6))\n",
        "sns.violinplot(data=df, x='Pclass', y='Age', hue='Survived')\n",
        "plt.xlabel('Pclass')\n",
        "plt.ylabel('Age')\n",
        "plt.title('Age Distribution by Passenger Class and Survival')\n",
        "plt.show()"
      ],
      "metadata": {
        "id": "56pzBAmvGtMN"
      },
      "execution_count": null,
      "outputs": []
    }
  ]
}